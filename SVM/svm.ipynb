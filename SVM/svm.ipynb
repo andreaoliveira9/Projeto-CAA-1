{
 "cells": [
  {
   "cell_type": "code",
   "execution_count": 1,
   "metadata": {},
   "outputs": [
    {
     "name": "stderr",
     "output_type": "stream",
     "text": [
      "100%|██████████| 403/403 [00:01<00:00, 347.30it/s]\n",
      "100%|██████████| 286/286 [00:00<00:00, 398.45it/s]\n",
      "100%|██████████| 287/287 [00:00<00:00, 326.38it/s]\n",
      "100%|██████████| 91/91 [00:00<00:00, 330.95it/s]\n",
      "100%|██████████| 354/354 [00:00<00:00, 406.81it/s]\n",
      "100%|██████████| 347/347 [00:00<00:00, 505.08it/s]\n",
      "100%|██████████| 108/108 [00:00<00:00, 456.84it/s]\n",
      "100%|██████████| 68/68 [00:00<00:00, 330.37it/s]\n",
      "100%|██████████| 70/70 [00:00<00:00, 475.25it/s]\n",
      "100%|██████████| 29/29 [00:00<00:00, 348.34it/s]\n",
      "100%|██████████| 82/82 [00:00<00:00, 341.23it/s]\n",
      "100%|██████████| 74/74 [00:00<00:00, 551.09it/s]\n"
     ]
    }
   ],
   "source": [
    "import os\n",
    "import cv2\n",
    "import numpy as np\n",
    "from tqdm import tqdm\n",
    "from sklearn.model_selection import train_test_split\n",
    "from sklearn.preprocessing import LabelEncoder\n",
    "from sklearn.svm import SVC\n",
    "from sklearn.metrics import classification_report, confusion_matrix\n",
    "import matplotlib.pyplot as plt\n",
    "import seaborn as sns\n",
    "\n",
    "# Função para carregar as imagens\n",
    "def load_images(path):\n",
    "    X = []\n",
    "    y = []\n",
    "\n",
    "    for folder in os.listdir(path):\n",
    "        files = os.listdir(path + folder)\n",
    "        for file in tqdm(files):\n",
    "            img = cv2.imread(path + folder + '/' + file)\n",
    "            img = cv2.resize(img, (150, 150))\n",
    "            X.append(img)\n",
    "            y.append(folder)\n",
    "    \n",
    "    X = np.array(X)\n",
    "    y = np.array(y)\n",
    "\n",
    "    return X, y\n",
    "\n",
    "# Carregando os dados de treinamento e teste\n",
    "train_path = '../dataset_organized/train/'\n",
    "test_path = '../dataset_organized/test/'\n",
    "X_train, y_train = load_images(train_path)\n",
    "X_test, y_test = load_images(test_path)\n",
    "\n",
    "# Normalizando as imagens\n",
    "X_train = X_train / 255.0\n",
    "X_test = X_test / 255.0\n",
    "\n",
    "# Transformando as imagens em vetores\n",
    "X_train_flat = X_train.reshape(X_train.shape[0], -1)\n",
    "X_test_flat = X_test.reshape(X_test.shape[0], -1)\n",
    "\n",
    "# Codificando as labels\n",
    "label_encoder = LabelEncoder()\n",
    "y_train_encoded = label_encoder.fit_transform(y_train)\n",
    "y_test_encoded = label_encoder.transform(y_test)\n",
    "\n",
    "# Dividindo o conjunto de treinamento em treinamento e validação\n",
    "X_train_flat, X_val_flat, y_train_encoded, y_val_encoded = train_test_split(X_train_flat, y_train_encoded, test_size=0.2, random_state=0)\n"
   ]
  },
  {
   "cell_type": "code",
   "execution_count": null,
   "metadata": {},
   "outputs": [],
   "source": [
    "# Treinando o modelo SVM\n",
    "svm_model = SVC(kernel='linear', C=1.0)\n",
    "svm_model.fit(X_train_flat, y_train_encoded)\n",
    "\n",
    "# Avaliando o modelo na validação\n",
    "val_predictions = svm_model.predict(X_val_flat)\n",
    "print(\"Relatório de classificação na validação:\")\n",
    "print(classification_report(y_val_encoded, val_predictions, target_names=label_encoder.classes_))"
   ]
  },
  {
   "cell_type": "code",
   "execution_count": null,
   "metadata": {},
   "outputs": [],
   "source": [
    "# Avaliando o modelo no conjunto de teste\n",
    "test_predictions = svm_model.predict(X_test_flat)\n",
    "print(\"Relatório de classificação no teste:\")\n",
    "print(classification_report(y_test_encoded, test_predictions, target_names=label_encoder.classes_))\n",
    "\n",
    "# Matriz de confusão\n",
    "confusion_mtx = confusion_matrix(y_test_encoded, test_predictions)\n",
    "\n",
    "plt.figure(figsize=(10, 8))\n",
    "sns.heatmap(confusion_mtx, annot=True, fmt='d', cmap='Blues', xticklabels=label_encoder.classes_, yticklabels=label_encoder.classes_)\n",
    "plt.xlabel('Predicted')\n",
    "plt.ylabel('Actual')\n",
    "plt.title('Confusion Matrix')\n",
    "plt.show()\n"
   ]
  }
 ],
 "metadata": {
  "kernelspec": {
   "display_name": "venv",
   "language": "python",
   "name": "python3"
  },
  "language_info": {
   "codemirror_mode": {
    "name": "ipython",
    "version": 3
   },
   "file_extension": ".py",
   "mimetype": "text/x-python",
   "name": "python",
   "nbconvert_exporter": "python",
   "pygments_lexer": "ipython3",
   "version": "3.11.11"
  }
 },
 "nbformat": 4,
 "nbformat_minor": 2
}
