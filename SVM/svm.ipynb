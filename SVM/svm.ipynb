{
 "cells": [
  {
   "cell_type": "code",
   "execution_count": 1,
   "metadata": {},
   "outputs": [
    {
     "name": "stderr",
     "output_type": "stream",
     "text": [
      "100%|██████████| 2271/2271 [00:02<00:00, 1092.48it/s]\n",
      "100%|██████████| 2191/2191 [00:01<00:00, 1107.48it/s]\n",
      "100%|██████████| 2404/2404 [00:02<00:00, 1126.68it/s]\n",
      "100%|██████████| 2382/2382 [00:01<00:00, 1303.86it/s]\n",
      "100%|██████████| 2512/2512 [00:02<00:00, 1253.60it/s]\n",
      "100%|██████████| 2274/2274 [00:01<00:00, 1223.55it/s]\n",
      "100%|██████████| 474/474 [00:00<00:00, 1304.89it/s]\n",
      "100%|██████████| 437/437 [00:00<00:00, 1407.21it/s]\n",
      "100%|██████████| 553/553 [00:00<00:00, 1397.83it/s]\n",
      "100%|██████████| 501/501 [00:00<00:00, 1390.39it/s]\n",
      "100%|██████████| 525/525 [00:00<00:00, 1721.76it/s]\n",
      "100%|██████████| 510/510 [00:00<00:00, 1859.28it/s]\n"
     ]
    }
   ],
   "source": [
    "import os\n",
    "import cv2\n",
    "import numpy as np\n",
    "from tqdm import tqdm\n",
    "from sklearn.model_selection import train_test_split\n",
    "from sklearn.preprocessing import LabelEncoder\n",
    "from sklearn.svm import SVC\n",
    "from sklearn.metrics import classification_report, confusion_matrix\n",
    "import matplotlib.pyplot as plt\n",
    "import seaborn as sns\n",
    "\n",
    "# Função para carregar as imagens\n",
    "def load_images(path):\n",
    "    X = []\n",
    "    y = []\n",
    "\n",
    "    for folder in os.listdir(path):\n",
    "        files = os.listdir(path + folder)\n",
    "        for file in tqdm(files):\n",
    "            img = cv2.imread(path + folder + '/' + file)\n",
    "            img = cv2.resize(img, (150, 150))\n",
    "            X.append(img)\n",
    "            y.append(folder)\n",
    "    \n",
    "    X = np.array(X)\n",
    "    y = np.array(y)\n",
    "\n",
    "    return X, y\n",
    "\n",
    "# Carregando os dados de treinamento e teste\n",
    "train_path = '../archive/seg_train/seg_train/'\n",
    "test_path = '../archive/seg_test/seg_test/'\n",
    "X_train, y_train = load_images(train_path)\n",
    "X_test, y_test = load_images(test_path)\n",
    "\n",
    "# Normalizando as imagens\n",
    "X_train = X_train / 255.0\n",
    "X_test = X_test / 255.0\n",
    "\n",
    "# Transformando as imagens em vetores\n",
    "X_train_flat = X_train.reshape(X_train.shape[0], -1)\n",
    "X_test_flat = X_test.reshape(X_test.shape[0], -1)\n",
    "\n",
    "# Codificando as labels\n",
    "label_encoder = LabelEncoder()\n",
    "y_train_encoded = label_encoder.fit_transform(y_train)\n",
    "y_test_encoded = label_encoder.transform(y_test)\n",
    "\n",
    "# Dividindo o conjunto de treinamento em treinamento e validação\n",
    "X_train_flat, X_val_flat, y_train_encoded, y_val_encoded = train_test_split(X_train_flat, y_train_encoded, test_size=0.2, random_state=0)\n"
   ]
  },
  {
   "cell_type": "code",
   "execution_count": 2,
   "metadata": {},
   "outputs": [],
   "source": [
    "# Treinando o modelo SVM\n",
    "svm_model = SVC(kernel='linear', C=1.0)\n",
    "svm_model.fit(X_train_flat, y_train_encoded)\n",
    "\n",
    "# Avaliando o modelo na validação\n",
    "val_predictions = svm_model.predict(X_val_flat)\n",
    "print(\"Relatório de classificação na validação:\")\n",
    "print(classification_report(y_val_encoded, val_predictions, target_names=label_encoder.classes_))"
   ]
  },
  {
   "cell_type": "code",
   "execution_count": null,
   "metadata": {},
   "outputs": [],
   "source": [
    "# Avaliando o modelo no conjunto de teste\n",
    "test_predictions = svm_model.predict(X_test_flat)\n",
    "print(\"Relatório de classificação no teste:\")\n",
    "print(classification_report(y_test_encoded, test_predictions, target_names=label_encoder.classes_))\n",
    "\n",
    "# Matriz de confusão\n",
    "confusion_mtx = confusion_matrix(y_test_encoded, test_predictions)\n",
    "\n",
    "plt.figure(figsize=(10, 8))\n",
    "sns.heatmap(confusion_mtx, annot=True, fmt='d', cmap='Blues', xticklabels=label_encoder.classes_, yticklabels=label_encoder.classes_)\n",
    "plt.xlabel('Predicted')\n",
    "plt.ylabel('Actual')\n",
    "plt.title('Confusion Matrix')\n",
    "plt.show()\n"
   ]
  }
 ],
 "metadata": {
  "kernelspec": {
   "display_name": "base",
   "language": "python",
   "name": "python3"
  },
  "language_info": {
   "codemirror_mode": {
    "name": "ipython",
    "version": 3
   },
   "file_extension": ".py",
   "mimetype": "text/x-python",
   "name": "python",
   "nbconvert_exporter": "python",
   "pygments_lexer": "ipython3",
   "version": "3.11.0"
  }
 },
 "nbformat": 4,
 "nbformat_minor": 2
}
